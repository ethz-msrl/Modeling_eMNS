{
 "cells": [
  {
   "cell_type": "markdown",
   "metadata": {},
   "source": [
    "# Deep Fluids Test Data Conversion\n",
    "\n",
    "After generating data using tester.py with the option to save data, this script will import the predicted field, denormalize it, and output the data to a numpy format that can be used by the PerformanceAnalysis scripts.\n",
    "\n",
    "## Inputs\n",
    "* the dataset folder. Must contain an args.txt file and idx_test.txt specifying the indices of the test samples. Assumed to be in deep-fluids/data/cmag_dataset\n",
    "* the test folder. Must contain the predictions of each test example. assumed to be in deep-fluids/test/cmag_dataset\n",
    "\n",
    "## Outputs\n",
    "This will save the prediction outputs in Models/CNN and Models/CNN-DF respectively. It will also generate figures in the Figures folder"
   ]
  },
  {
   "cell_type": "code",
   "execution_count": 20,
   "metadata": {},
   "outputs": [],
   "source": [
    "import numpy as np\n",
    "import matplotlib.pyplot as plt\n",
    "import pandas as pd\n",
    "import os\n",
    "import os.path\n",
    "import math\n",
    "import glob\n",
    "import re\n",
    "from functions.deep_fluids_utils import get_ranges, denorm, evaluate_generic_metrics, create_df, extract_stats\n",
    "from sklearn.metrics import r2_score, mean_absolute_error, mean_squared_error\n",
    "%matplotlib inline"
   ]
  },
  {
   "cell_type": "code",
   "execution_count": 5,
   "metadata": {
    "collapsed": true
   },
   "outputs": [],
   "source": [
    "# change this with the path to deep-fluids\n",
    "DF_PATH = '/home/samuelch/src/deep-fluids/'"
   ]
  },
  {
   "cell_type": "code",
   "execution_count": 3,
   "metadata": {
    "collapsed": true
   },
   "outputs": [],
   "source": [
    "x_range, y_range = get_ranges(os.path.join(DF_PATH, 'data/cmag_dataset/args.txt'))"
   ]
  },
  {
   "cell_type": "code",
   "execution_count": 4,
   "metadata": {
    "collapsed": true
   },
   "outputs": [],
   "source": [
    "test_idx_fn = os.path.join(DF_PATH, 'data/cmag_dataset/idx_test.txt')\n",
    "data_dir = os.path.join(DF_PATH, 'data/cmag_dataset/v/') \n",
    "test_dir = os.path.join(DF_PATH, 'test/cmag_dataset/v')"
   ]
  },
  {
   "cell_type": "code",
   "execution_count": 5,
   "metadata": {},
   "outputs": [],
   "source": [
    "test_df = create_df(data_dir, test_dir, test_idx_fn, x_range, y_range)"
   ]
  },
  {
   "cell_type": "code",
   "execution_count": 6,
   "metadata": {
    "collapsed": true
   },
   "outputs": [],
   "source": [
    "grouped_metrics = lambda x: evaluate_generic_metrics(x[['Ox', 'Oy', 'Oz']].values, x[['Px', 'Py', 'Pz']].values)\n",
    "test_by_current = test_df.groupby('currents_level').apply(grouped_metrics)"
   ]
  },
  {
   "cell_type": "code",
   "execution_count": 7,
   "metadata": {
    "collapsed": true
   },
   "outputs": [],
   "source": [
    "test_by_current.to_pickle('../Models/CNN/df_results_by_current_level')"
   ]
  },
  {
   "cell_type": "code",
   "execution_count": 8,
   "metadata": {
    "collapsed": true
   },
   "outputs": [],
   "source": [
    "np.save('../Models/CNN/observations.npy', test_df[['Ox','Oy', 'Oz']].values)\n",
    "np.save('../Models/CNN/predictions.npy', test_df[['Px','Py', 'Pz']].values)"
   ]
  },
  {
   "cell_type": "code",
   "execution_count": 9,
   "metadata": {
    "collapsed": true
   },
   "outputs": [],
   "source": [
    "test_by_current = pd.read_pickle('../Models/CNN/df_results_by_current_level')"
   ]
  },
  {
   "cell_type": "code",
   "execution_count": 10,
   "metadata": {},
   "outputs": [
    {
     "data": {
      "text/plain": [
       "Text(0.5,0,'current level (A)')"
      ]
     },
     "execution_count": 10,
     "metadata": {},
     "output_type": "execute_result"
    },
    {
     "data": {
      "image/png": "[encoded data removed]",
      "text/plain": [
       "<Figure size 432x288 with 2 Axes>"
      ]
     },
     "metadata": {},
     "output_type": "display_data"
    }
   ],
   "source": [
    "current_levels = list(test_by_current.keys())\n",
    "plt.subplot(2,1,1)\n",
    "plt.bar(current_levels, [test_by_current[l]['R2_norm'] for l in current_levels])\n",
    "plt.subplot(2,1,2)\n",
    "plt.bar(current_levels, [test_by_current[l]['MAE_mT'] for l in current_levels])\n",
    "plt.ylabel('MAE (mT)')\n",
    "plt.xlabel('current level (A)')"
   ]
  },
  {
   "cell_type": "markdown",
   "metadata": {},
   "source": [
    "## Now Getting data for Div-free"
   ]
  },
  {
   "cell_type": "code",
   "execution_count": 11,
   "metadata": {
    "collapsed": true
   },
   "outputs": [],
   "source": [
    "test_idx_fn = os.path.join(DF_PATH, 'data/cmag_dataset/idx_test.txt') \n",
    "data_dir = os.path.join(DF_PATH, 'data/cmag_dataset/v/')\n",
    "test_dir = os.path.join(DF_PATH, 'test/cmag_dataset_divfree/v')"
   ]
  },
  {
   "cell_type": "code",
   "execution_count": 13,
   "metadata": {},
   "outputs": [],
   "source": [
    "test_df_divfree = create_df(data_dir, test_dir, test_idx_fn, x_range, y_range)\n",
    "grouped_metrics = lambda x: evaluate_generic_metrics(x[['Ox', 'Oy', 'Oz']].values, x[['Px', 'Py', 'Pz']].values)\n",
    "test_by_current_divfree = test_df_divfree.groupby('currents_level').apply(grouped_metrics)\n",
    "test_by_current_divfree.to_pickle('../Models/CNN-DF/df_results_by_current_level_divfree')"
   ]
  },
  {
   "cell_type": "code",
   "execution_count": 14,
   "metadata": {},
   "outputs": [],
   "source": [
    "np.save('../Models/CNN-DF/observations.npy', test_df_divfree[['Ox','Oy', 'Oz']].values)\n",
    "np.save('../Models/CNN-DF/predictions.npy', test_df_divfree[['Px','Py', 'Pz']].values)"
   ]
  },
  {
   "cell_type": "code",
   "execution_count": 15,
   "metadata": {
    "collapsed": true
   },
   "outputs": [],
   "source": [
    "#test_by_current_divfree = pd.read_pickle('df_results_by_current_level_divfree')"
   ]
  },
  {
   "cell_type": "code",
   "execution_count": 16,
   "metadata": {},
   "outputs": [
    {
     "data": {
      "image/png": "[encoded data removed]",
      "text/plain": [
       "<Figure size 331.2x216 with 1 Axes>"
      ]
     },
     "metadata": {},
     "output_type": "display_data"
    }
   ],
   "source": [
    "current_levels = list(test_by_current.keys())\n",
    "plt.figure(figsize=(4.6,3))\n",
    "plt.bar(np.array(current_levels)-0.5, [test_by_current[l]['MAE_mT'] for l in current_levels])\n",
    "plt.bar(np.array(current_levels)+0.5, [test_by_current_divfree[l]['MAE_mT'] for l in current_levels])\n",
    "xtick_labels = ['0', '0-5', '5-10', '10-15', '15-20', '20-25', '25-30', '30-35']\n",
    "plt.gca().set_xticklabels(xtick_labels)\n",
    "plt.ylabel('MAE (mT)')\n",
    "plt.xlabel('Maximum Absolute Current (A)')\n",
    "plt.tight_layout()\n",
    "plt.legend(('CNN', 'CNN-DF'))\n",
    "plt.savefig('../Figures/cnn_mae_current_levels.pdf')"
   ]
  },
  {
   "cell_type": "code",
   "execution_count": 17,
   "metadata": {},
   "outputs": [
    {
     "data": {
      "image/png": "[encoded data removed]",
      "text/plain": [
       "<Figure size 331.2x216 with 1 Axes>"
      ]
     },
     "metadata": {},
     "output_type": "display_data"
    }
   ],
   "source": [
    "current_levels = list(test_by_current.keys())\n",
    "plt.figure(figsize=(4.6,3))\n",
    "plt.bar(np.array(current_levels)-0.5, 100*np.array([test_by_current[l]['N-MAE'] for l in current_levels]))\n",
    "plt.bar(np.array(current_levels)+0.5, 100*np.array([test_by_current_divfree[l]['N-MAE'] for l in current_levels]))\n",
    "xtick_labels = ['0', '0-5', '5-10', '10-15', '15-20', '20-25', '25-30', '30-35']\n",
    "plt.gca().set_xticklabels(xtick_labels)\n",
    "plt.ylabel('N-MAE (%)')\n",
    "plt.xlabel('Maximum Absolute Current (A)')\n",
    "plt.tight_layout()\n",
    "plt.legend(('CNN', 'CNN-DF'))\n",
    "plt.savefig('../Figures/cnn_n-mae_current_levels.pdf')"
   ]
  },
  {
   "cell_type": "markdown",
   "metadata": {
    "collapsed": true
   },
   "source": [
    "## Epoch Statistics\n"
   ]
  },
  {
   "cell_type": "code",
   "execution_count": 14,
   "metadata": {
    "collapsed": true
   },
   "outputs": [],
   "source": [
    "def plot_training_perf(root_path, root_path_df=None):\n",
    "    \"\"\" \n",
    "    Extracts the data from both the CNN and CNN-DF results folders\n",
    "    \n",
    "        Args:\n",
    "            root_path (str): path to results folder for CNN\n",
    "            root_path_df (str): path to the results folder for CNN-DF\n",
    "    \"\"\"\n",
    "    ret = extract_stats(root_path)\n",
    "    if root_path_df:\n",
    "        ret_df = extract_stats(root_path_df)\n",
    "        assert(np.allclose(ret['epochs'], ret_df['epochs']))\n",
    "\n",
    "    plt.figure(figsize=(4.6,5))\n",
    "    width=20.\n",
    "        \n",
    "    plt.subplot(2,1,1)\n",
    "    if root_path_df:\n",
    "        plt.bar(ret['epochs'] - width/2, np.mean(ret['r2s'], axis=1), width)\n",
    "        plt.bar(ret['epochs'] + width/2, np.mean(ret_df['r2s'], axis=1), width)\n",
    "        plt.legend(('CNN', 'CNN-DF'))\n",
    "    else:\n",
    "        plt.bar(ret['epochs'], np.mean(ret['r2s'], axis=1), width)\n",
    "\n",
    "    plt.gca().set_ylim(np.min(ret['r2s'])-0.005, 1.)\n",
    "\n",
    "    plt.ylabel('$R^2$')\n",
    "    plt.tight_layout()\n",
    "\n",
    "    plt.subplot(2,1,2)\n",
    "\n",
    "#     plt.bar(splits - width, maes[:,0], width, bottom=0)\n",
    "#     plt.bar(splits, maes[:,1], width, bottom=0)\n",
    "#     plt.bar(splits + width, maes[:,2], width, bottom=0)\n",
    "    if root_path_df:\n",
    "        plt.bar(ret['epochs'] - width/2, np.mean(ret['maes'], axis=1), width)\n",
    "        plt.bar(ret['epochs'] + width/2, np.mean(ret_df['maes'], axis=1), width)\n",
    "        plt.legend(('CNN', 'CNN-DF'))\n",
    "    else:\n",
    "        plt.bar(ret['epochs'], np.mean(ret['maes'], axis=1), width)\n",
    "\n",
    "        \n",
    "    plt.xlabel('Epochs')\n",
    "    plt.ylabel('MAE (mT)')\n",
    "    plt.tight_layout()\n"
   ]
  },
  {
   "cell_type": "code",
   "execution_count": 6,
   "metadata": {},
   "outputs": [
    {
     "data": {
      "image/png": "[encoded data removed]",
      "text/plain": [
       "<Figure size 331.2x360 with 2 Axes>"
      ]
     },
     "metadata": {},
     "output_type": "display_data"
    }
   ],
   "source": [
    "plot_training_perf(os.path.join(DF_PATH, 'log/cmag_dataset/epochs'), os.path.join(DF_PATH,'log/cmag_dataset/epochs_df/'))\n",
    "plt.savefig('../Figures/cnn_mae_epochs.pdf')"
   ]
  },
  {
   "cell_type": "code",
   "execution_count": 7,
   "metadata": {
    "collapsed": true
   },
   "outputs": [],
   "source": [
    "ret = extract_stats(os.path.join(DF_PATH, 'log/cmag_dataset/epochs/'))\n",
    "ret_df = extract_stats(os.path.join(DF_PATH, 'log/cmag_dataset/epochs_df/'))"
   ]
  },
  {
   "cell_type": "code",
   "execution_count": 8,
   "metadata": {},
   "outputs": [
    {
     "name": "stdout",
     "output_type": "stream",
     "text": [
      "Epochs: 350\n",
      "MAE: 0.62\n",
      "R2: 0.997\n",
      "RMSE: 0.96\n"
     ]
    }
   ],
   "source": [
    "output_str = 'Epochs: {:d}\\nMAE: {:1.2f}\\nR2: {:1.3f}\\nRMSE: {:1.2f}'.format( ret_df['epochs'][6],\n",
    "                                    (np.mean(ret_df['maes'], axis=1))[6],\n",
    "                                     (np.mean(ret_df['r2s'], axis=1))[6],\n",
    "                                     (np.mean(ret_df['rmses'], axis=1))[6])\n",
    "print(output_str)"
   ]
  },
  {
   "cell_type": "code",
   "execution_count": 9,
   "metadata": {},
   "outputs": [
    {
     "name": "stdout",
     "output_type": "stream",
     "text": [
      "Epochs: 350\n",
      "MAE: 0.51\n",
      "R2: 0.998\n",
      "RMSE: 0.83\n"
     ]
    }
   ],
   "source": [
    "output_str = 'Epochs: {:d}\\nMAE: {:1.2f}\\nR2: {:1.3f}\\nRMSE: {:1.2f}'.format(ret['epochs'][6],\n",
    "                                    (np.mean(ret['maes'], axis=1))[6],\n",
    "                                     (np.mean(ret['r2s'], axis=1))[6],\n",
    "                                     (np.mean(ret['rmses'], axis=1))[6] )\n",
    "print(output_str)"
   ]
  },
  {
   "cell_type": "markdown",
   "metadata": {},
   "source": [
    "## Training Split Sizes"
   ]
  },
  {
   "cell_type": "code",
   "execution_count": 50,
   "metadata": {},
   "outputs": [],
   "source": [
    "def extract_stats_splits(root_path):\n",
    "    ss_paths = glob.glob(os.path.join(root_path, '*_ss_*'))\n",
    "    r2_l = []\n",
    "    rmse_l = []\n",
    "    split_l = []\n",
    "    mae_l = []\n",
    "    r2_train_l = []\n",
    "    rmse_train_l = []\n",
    "    mae_train_l = []\n",
    "    for path in sorted(ss_paths):\n",
    "        split = int(re.findall(r'[\\d]+$',path)[0])\n",
    "        stats_file = tf.train.latest_checkpoint(path) + '.test_stats'\n",
    "        if not os.path.exists(stats_file):\n",
    "            print('could not find stats file for %s' % path)\n",
    "            continue\n",
    "\n",
    "        r2, rmse, mae = read_stats_file(stats_file)\n",
    "        r2_l.append(r2)\n",
    "        rmse_l.append(rmse)\n",
    "        mae_l.append(mae)\n",
    "        split_l.append(split)\n",
    "        \n",
    "        train_stats_file = tf.train.latest_checkpoint(path) + '.train_stats'\n",
    "        if os.path.exists(train_stats_file):\n",
    "            r2_train, rmse_train, mae_train = read_stats_file(train_stats_file)\n",
    "            r2_train_l.append(r2_train)\n",
    "            rmse_train_l.append(rmse_train)\n",
    "            mae_train_l.append(mae_train)\n",
    "        \n",
    "    r2s = np.array(r2_l)\n",
    "    r2s_train = np.array(r2_train_l)\n",
    "    rmses = 1000 * np.array(rmse_l)\n",
    "    rmses_train = 1000 * np.array(rmse_train_l)\n",
    "    maes = 1000 * np.array(mae_l)\n",
    "    maes_train = 1000 * np.array(mae_train_l)\n",
    "    splits = np.array(split_l)\n",
    "    ret = {\n",
    "        'r2s': r2s,\n",
    "        'maes': maes,\n",
    "        'splits': splits,\n",
    "        'rmses': rmses,\n",
    "        'r2s_train': r2s_train,\n",
    "        'rmses_train': rmses_train,\n",
    "        'maes_train': maes_train\n",
    "    }\n",
    "    return ret\n",
    "    \n",
    "def plot_training_split_perf(root_path, root_path_df, is_ieee=False):\n",
    "    \"\"\" \n",
    "    Extracts the data from both the CNN and CNN-DF results folders\n",
    "    \n",
    "        Args:\n",
    "            root_path (str): path to results folder for CNN\n",
    "            root_path_df (str): path to the results folder for CNN-DF\n",
    "    \"\"\"\n",
    "    ret = extract_stats_splits(root_path)\n",
    "    ret_df = extract_stats_splits(root_path_df)\n",
    "    assert(np.allclose(ret['splits'], ret_df['splits']))\n",
    "    \n",
    "    if is_ieee:\n",
    "        width=3.\n",
    "        plt.figure(figsize=(3.5,2.2))\n",
    "        plt.bar(ret['splits'] - width/2, np.mean(ret['maes'], axis=1), width)\n",
    "        plt.bar(ret['splits'] + width/2, np.mean(ret_df['maes'], axis=1), width)\n",
    "        plt.legend(('CNN', 'CNN-DF'))\n",
    "        plt.xlabel('Training Set Size (%)')\n",
    "        plt.ylabel('MAE (mT)')\n",
    "        plt.tight_layout()\n",
    "        plt.rcParams[\"font.size\"] = \"8\"\n",
    "    else:\n",
    "        plt.figure(figsize=(4.6,5))\n",
    "        width=3.\n",
    "\n",
    "        plt.subplot(2,1,1)\n",
    "        plt.bar(ret['splits'] - width/2, np.mean(ret['r2s'], axis=1), width)\n",
    "        plt.bar(ret['splits'] + width/2, np.mean(ret_df['r2s'], axis=1), width)\n",
    "\n",
    "        plt.gca().set_ylim(np.min(r2s)-0.01,1.)\n",
    "        plt.legend(('CNN', 'CNN-DF'))\n",
    "        plt.ylabel('$R^2$')\n",
    "        plt.tight_layout()\n",
    "\n",
    "        plt.subplot(2,1,2)\n",
    "\n",
    "    #     plt.bar(splits - width, maes[:,0], width, bottom=0)\n",
    "    #     plt.bar(splits, maes[:,1], width, bottom=0)\n",
    "    #     plt.bar(splits + width, maes[:,2], width, bottom=0)\n",
    "        plt.bar(ret['splits'] - width/2, np.mean(maes, axis=1), width)\n",
    "        plt.bar(ret['splits'] + width/2, np.mean(maes_df, axis=1), width)\n",
    "        plt.legend(('CNN', 'CNN-DF'))\n",
    "        plt.xlabel('Training Set Size (%)')\n",
    "        plt.ylabel('MAE (mT)')\n",
    "        plt.tight_layout()\n",
    "        plt.rcParams[\"font.size\"] = \"11\""
   ]
  },
  {
   "cell_type": "code",
   "execution_count": 44,
   "metadata": {},
   "outputs": [
    {
     "data": {
      "image/png": "[encoded data removed]",
      "text/plain": [
       "<Figure size 252x158.4 with 1 Axes>"
      ]
     },
     "metadata": {},
     "output_type": "display_data"
    }
   ],
   "source": [
    "plot_training_split_perf(os.path.join(DF_PATH,'log/cmag_dataset/splits_fixed'), \n",
    "                         os.path.join(DF_PATH, 'log/cmag_dataset/splits_divfree/'), is_ieee=True)\n",
    "plt.savefig('../Figures/cnn_splits_size_ieee.pdf')"
   ]
  },
  {
   "cell_type": "code",
   "execution_count": 58,
   "metadata": {},
   "outputs": [
    {
     "data": {
      "image/png": "[encoded data removed]",
      "text/plain": [
       "<Figure size 331.2x216 with 1 Axes>"
      ]
     },
     "metadata": {},
     "output_type": "display_data"
    }
   ],
   "source": [
    "ret = extract_stats_splits(os.path.join(DF_PATH, 'log/cmag_dataset/splits_fixed/'))\n",
    "plt.figure(figsize=(4.6, 3))\n",
    "plt.plot(ret['splits'], np.mean(ret['maes'], axis=1), linestyle='-', marker='o')\n",
    "plt.plot(ret['splits'], np.mean(ret['maes_train'], axis=1), linestyle='-', marker='v')\n",
    "plt.xlabel('Training Set Size (%)')\n",
    "plt.ylabel('MAE (mT)')\n",
    "plt.legend(('Test Set', 'Training Set'))\n",
    "plt.tight_layout()\n",
    "plt.savefig('../Figures/cnn_learning_curve.pdf')"
   ]
  },
  {
   "cell_type": "code",
   "execution_count": null,
   "metadata": {
    "collapsed": true
   },
   "outputs": [],
   "source": []
  }
 ],
 "metadata": {
  "kernelspec": {
   "display_name": "Python 2",
   "language": "python",
   "name": "python2"
  },
  "language_info": {
   "codemirror_mode": {
    "name": "ipython",
    "version": 2
   },
   "file_extension": ".py",
   "mimetype": "text/x-python",
   "name": "python",
   "nbconvert_exporter": "python",
   "pygments_lexer": "ipython2",
   "version": "2.7.12"
  }
 },
 "nbformat": 4,
 "nbformat_minor": 2
}
