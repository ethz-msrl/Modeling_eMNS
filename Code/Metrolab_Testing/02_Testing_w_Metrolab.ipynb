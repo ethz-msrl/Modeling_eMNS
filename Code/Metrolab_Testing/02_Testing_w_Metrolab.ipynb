{
 "cells": [
  {
   "cell_type": "code",
   "execution_count": 17,
   "metadata": {
    "collapsed": true
   },
   "outputs": [],
   "source": [
    "import numpy as np\n",
    "import matlab.engine\n",
    "import pandas as pd\n",
    "import scipy.io as sio\n",
    "\n",
    "from keras.models import load_model\n",
    "from sklearn.metrics import r2_score, mean_squared_error\n",
    "import tensorflow as tf\n",
    "\n",
    "import sys\n",
    "sys.path.insert(0, '../')\n",
    "\n",
    "from functions.functions import load_data_forGridSearch, feature_scaling_forGridSearch, load_object\n"
   ]
  },
  {
   "cell_type": "code",
   "execution_count": 8,
   "metadata": {},
   "outputs": [
    {
     "name": "stdout",
     "output_type": "stream",
     "text": [
      "Total data shape is  (214974, 14)\n"
     ]
    }
   ],
   "source": [
    "# load metrolab data for testing\n",
    "\n",
    "data = pd.read_csv(\"metrolab_unified_units.csv\",\n",
    "                   skiprows=1, header=None)\n",
    "print(\"Total data shape is \", data.shape)"
   ]
  },
  {
   "cell_type": "code",
   "execution_count": 9,
   "metadata": {},
   "outputs": [
    {
     "name": "stdout",
     "output_type": "stream",
     "text": [
      "214974 samples are finally selected for testing\n"
     ]
    }
   ],
   "source": [
    "X_test_metrolab = data.values[:, :-3]\n",
    "y_test_metrolab = data.values[:, -3:]\n",
    "print(\"{} samples are finally selected for testing\".format(len(X_test)))"
   ]
  },
  {
   "cell_type": "code",
   "execution_count": 10,
   "metadata": {
    "collapsed": true
   },
   "outputs": [],
   "source": [
    "# load sensor grid training data to feature scaling metrolab data\n",
    "X_train, _ = load_data_forGridSearch(\"../../Data\", \"train\")\n",
    "\n",
    "# perform feature scaling\n",
    "_, X_test_metrolab_transformed = feature_scaling_forGridSearch(X_train, X_test_metrolab)\n",
    "\n",
    "\n",
    "# print(np.max(X_train_transformed, axis=0))\n",
    "# print(np.min(X_train_transformed, axis=0))\n",
    "# print(\"*\"*10)\n",
    "# print(np.max(X_test_transformed, axis=0))\n",
    "# print(np.min(X_test_transformed, axis=0))\n",
    "\n",
    "# print(\"\\nsensor grid and metrolab have different sensor location range and (slightly) current range.\")\n"
   ]
  },
  {
   "cell_type": "code",
   "execution_count": 11,
   "metadata": {
    "collapsed": true
   },
   "outputs": [],
   "source": [
    "def evaluate_generic_metrics(labels, predictions):\n",
    "    \n",
    "    # label_norm = np.sqrt(np.sum(labels**2, axis=1))\n",
    "    # prediction_norm = np.sqrt(np.sum(predictions**2, axis=1))\n",
    "    label_norm = [np.linalg.norm(y) for y in labels]\n",
    "    prediction_norm = [np.linalg.norm(y) for y in predictions]\n",
    "    \n",
    "    # R^2\n",
    "    r2_c = r2_score(y_true=labels, y_pred=predictions, multioutput='raw_values')\n",
    "    r2 = r2_score(y_true=labels, y_pred=predictions)\n",
    "    r2_norm = r2_score(y_true=label_norm, y_pred=prediction_norm)\n",
    "\n",
    "    # Root mean squared error\n",
    "    rmse_c = np.sqrt(mean_squared_error(y_true=labels, y_pred=predictions, multioutput='raw_values'))\n",
    "    rmse = np.sqrt(mean_squared_error(y_true=labels, y_pred=predictions))\n",
    "    rmse_norm = np.sqrt(mean_squared_error(y_true=label_norm, y_pred=prediction_norm))\n",
    "\n",
    "    return {\"R2_x\": round(r2_c[0], 2),\n",
    "            \"R2_y\": round(r2_c[1], 2),\n",
    "            \"R2_z\": round(r2_c[2], 2),\n",
    "            \"R2\": round(r2, 2),\n",
    "            \"R2_norm\": round(r2_norm, 2),\n",
    "            \"RMSE_x_mT\": round(rmse_c[0]*1000, 2),\n",
    "            \"RMSE_y_mT\": round(rmse_c[1]*1000, 2),\n",
    "            \"RMSE_z_mT\": round(rmse_c[2]*1000, 2),\n",
    "            \"RMSE_mT\": round(rmse*1000, 2),\n",
    "            \"RMSE_norm_mT\": round(rmse_norm*1000,2)}"
   ]
  },
  {
   "cell_type": "markdown",
   "metadata": {},
   "source": [
    "## Linear baseline model (recalibrated)"
   ]
  },
  {
   "cell_type": "code",
   "execution_count": 21,
   "metadata": {
    "collapsed": true
   },
   "outputs": [],
   "source": [
    "# load matlab predictions\n",
    "recalibrated_y_pred = sio.loadmat('../baseline_model/magnetic_model/CalibrateSystem_CardioMag_retrained_w_SensorGrid/metrolab_y_pred.mat')['fieldStrength']\n",
    "recalibrated_y_pred = recalibrated_y_pred[:,0:3]\n",
    "assert recalibrated_y_pred.shape == y_test.shape, \"Predictions for testing set do not have the same shape as the labels\""
   ]
  },
  {
   "cell_type": "code",
   "execution_count": 22,
   "metadata": {},
   "outputs": [
    {
     "data": {
      "text/plain": [
       "{'R2_x': 0.88,\n",
       " 'R2_y': 0.83,\n",
       " 'R2_z': 0.82,\n",
       " 'R2': 0.84,\n",
       " 'R2_norm': 0.62,\n",
       " 'RMSE_x_mT': 12.3,\n",
       " 'RMSE_y_mT': 12.92,\n",
       " 'RMSE_z_mT': 11.22,\n",
       " 'RMSE_mT': 12.17,\n",
       " 'RMSE_norm_mT': 18.31}"
      ]
     },
     "execution_count": 22,
     "metadata": {},
     "output_type": "execute_result"
    }
   ],
   "source": [
    "baseline_results_recalibrated = evaluate_generic_metrics(y_test_metrolab, recalibrated_y_pred)\n",
    "baseline_results_recalibrated"
   ]
  },
  {
   "cell_type": "markdown",
   "metadata": {},
   "source": [
    "## Random forest model"
   ]
  },
  {
   "cell_type": "code",
   "execution_count": 12,
   "metadata": {},
   "outputs": [
    {
     "name": "stderr",
     "output_type": "stream",
     "text": [
      "/Users/ruoxi/anaconda3/envs/DL/lib/python3.6/site-packages/sklearn/base.py:251: UserWarning: Trying to unpickle estimator DecisionTreeRegressor from version 0.19.1 when using version 0.20.1. This might lead to breaking code or invalid results. Use at your own risk.\n",
      "  UserWarning)\n",
      "/Users/ruoxi/anaconda3/envs/DL/lib/python3.6/site-packages/sklearn/base.py:251: UserWarning: Trying to unpickle estimator RandomForestRegressor from version 0.19.1 when using version 0.20.1. This might lead to breaking code or invalid results. Use at your own risk.\n",
      "  UserWarning)\n",
      "/Users/ruoxi/anaconda3/envs/DL/lib/python3.6/site-packages/sklearn/base.py:251: UserWarning: Trying to unpickle estimator GridSearchCV from version 0.19.1 when using version 0.20.1. This might lead to breaking code or invalid results. Use at your own risk.\n",
      "  UserWarning)\n"
     ]
    }
   ],
   "source": [
    "# load model\n",
    "grid_RF = load_object(\"../../Models/RF/GridSearch_RFmulti.pkl\")\n",
    "# model_rf = grid_RF.best_estimator_"
   ]
  },
  {
   "cell_type": "code",
   "execution_count": 13,
   "metadata": {
    "collapsed": true
   },
   "outputs": [],
   "source": [
    "rf_y_pred = grid_RF.predict(X_test_metrolab_transformed)"
   ]
  },
  {
   "cell_type": "code",
   "execution_count": 16,
   "metadata": {},
   "outputs": [
    {
     "data": {
      "text/plain": [
       "{'R2_x': 0.85,\n",
       " 'R2_y': 0.85,\n",
       " 'R2_z': 0.77,\n",
       " 'R2': 0.82,\n",
       " 'R2_norm': 0.79,\n",
       " 'RMSE_x_mT': 13.84,\n",
       " 'RMSE_y_mT': 12.13,\n",
       " 'RMSE_z_mT': 12.55,\n",
       " 'RMSE_mT': 12.86,\n",
       " 'RMSE_norm_mT': 13.63}"
      ]
     },
     "execution_count": 16,
     "metadata": {},
     "output_type": "execute_result"
    }
   ],
   "source": [
    "rf_results = evaluate_generic_metrics(y_test_metrolab, rf_y_pred)\n",
    "rf_results"
   ]
  },
  {
   "cell_type": "markdown",
   "metadata": {},
   "source": [
    "## ANN model"
   ]
  },
  {
   "cell_type": "code",
   "execution_count": 18,
   "metadata": {},
   "outputs": [
    {
     "data": {
      "text/plain": [
       "{'R2_x': 0.99,\n",
       " 'R2_y': 0.99,\n",
       " 'R2_z': 0.98,\n",
       " 'R2': 0.99,\n",
       " 'R2_norm': 0.99,\n",
       " 'RMSE_x_mT': 3.46,\n",
       " 'RMSE_y_mT': 2.86,\n",
       " 'RMSE_z_mT': 3.53,\n",
       " 'RMSE_mT': 3.3,\n",
       " 'RMSE_norm_mT': 3.35}"
      ]
     },
     "execution_count": 18,
     "metadata": {},
     "output_type": "execute_result"
    }
   ],
   "source": [
    "def R2_score(y_true, y_pred):\n",
    "    numerator = tf.reduce_sum(tf.square(y_true - y_pred), axis=0)\n",
    "    denominator = tf.reduce_sum(tf.square(y_true - tf.reduce_mean(y_true, axis=0)), axis=0)\n",
    "    R2 = 1. - tf.div(numerator, denominator)\n",
    "    R2_mean = tf.reduce_mean(R2)\n",
    "    return R2_mean\n",
    "\n",
    "model = load_model('../../Models/ANN/model.hdf5', custom_objects={'R2_score': R2_score})\n",
    "ann_y_pred = model.predict(X_test_metrolab_transformed)\n",
    "ann_results = evaluate_generic_metrics(y_test_metrolab, ann_y_pred)\n",
    "ann_results"
   ]
  },
  {
   "cell_type": "markdown",
   "metadata": {},
   "source": [
    "## Overall results"
   ]
  },
  {
   "cell_type": "code",
   "execution_count": 24,
   "metadata": {},
   "outputs": [
    {
     "data": {
      "text/html": [
       "<div>\n",
       "<style scoped>\n",
       "    .dataframe tbody tr th:only-of-type {\n",
       "        vertical-align: middle;\n",
       "    }\n",
       "\n",
       "    .dataframe tbody tr th {\n",
       "        vertical-align: top;\n",
       "    }\n",
       "\n",
       "    .dataframe thead th {\n",
       "        text-align: right;\n",
       "    }\n",
       "</style>\n",
       "<table border=\"1\" class=\"dataframe\">\n",
       "  <thead>\n",
       "    <tr style=\"text-align: right;\">\n",
       "      <th></th>\n",
       "      <th>model</th>\n",
       "      <th>R2_x</th>\n",
       "      <th>R2_y</th>\n",
       "      <th>R2_z</th>\n",
       "      <th>R2_norm</th>\n",
       "      <th>RMSE_x_mT</th>\n",
       "      <th>RMSE_y_mT</th>\n",
       "      <th>RMSE_z_mT</th>\n",
       "      <th>RMSE_norm_mT</th>\n",
       "    </tr>\n",
       "  </thead>\n",
       "  <tbody>\n",
       "    <tr>\n",
       "      <th>0</th>\n",
       "      <td>linear baseline model (recalibrated)</td>\n",
       "      <td>0.88</td>\n",
       "      <td>0.83</td>\n",
       "      <td>0.82</td>\n",
       "      <td>0.62</td>\n",
       "      <td>12.30</td>\n",
       "      <td>12.92</td>\n",
       "      <td>11.22</td>\n",
       "      <td>18.31</td>\n",
       "    </tr>\n",
       "    <tr>\n",
       "      <th>1</th>\n",
       "      <td>random forest</td>\n",
       "      <td>0.85</td>\n",
       "      <td>0.85</td>\n",
       "      <td>0.77</td>\n",
       "      <td>0.79</td>\n",
       "      <td>13.84</td>\n",
       "      <td>12.13</td>\n",
       "      <td>12.55</td>\n",
       "      <td>13.63</td>\n",
       "    </tr>\n",
       "    <tr>\n",
       "      <th>2</th>\n",
       "      <td>ANN</td>\n",
       "      <td>0.99</td>\n",
       "      <td>0.99</td>\n",
       "      <td>0.98</td>\n",
       "      <td>0.99</td>\n",
       "      <td>3.46</td>\n",
       "      <td>2.86</td>\n",
       "      <td>3.53</td>\n",
       "      <td>3.35</td>\n",
       "    </tr>\n",
       "  </tbody>\n",
       "</table>\n",
       "</div>"
      ],
      "text/plain": [
       "                                  model  R2_x  R2_y  R2_z  R2_norm  RMSE_x_mT  \\\n",
       "0  linear baseline model (recalibrated)  0.88  0.83  0.82     0.62      12.30   \n",
       "1                         random forest  0.85  0.85  0.77     0.79      13.84   \n",
       "2                                   ANN  0.99  0.99  0.98     0.99       3.46   \n",
       "\n",
       "   RMSE_y_mT  RMSE_z_mT  RMSE_norm_mT  \n",
       "0      12.92      11.22         18.31  \n",
       "1      12.13      12.55         13.63  \n",
       "2       2.86       3.53          3.35  "
      ]
     },
     "execution_count": 24,
     "metadata": {},
     "output_type": "execute_result"
    }
   ],
   "source": [
    "baseline_results_recalibrated['model'] = 'linear baseline model (recalibrated)'\n",
    "rf_results['model'] = 'random forest'\n",
    "ann_results['model'] = 'ANN'\n",
    "\n",
    "results = pd.DataFrame.from_dict([baseline_results_recalibrated, rf_results, ann_results])\n",
    "results[['model', 'R2_x','R2_y', 'R2_z','R2_norm', 'RMSE_x_mT', 'RMSE_y_mT', 'RMSE_z_mT', 'RMSE_norm_mT']]"
   ]
  },
  {
   "cell_type": "code",
   "execution_count": null,
   "metadata": {
    "collapsed": true
   },
   "outputs": [],
   "source": []
  }
 ],
 "metadata": {
  "kernelspec": {
   "display_name": "Python 2",
   "language": "python",
   "name": "python2"
  },
  "language_info": {
   "codemirror_mode": {
    "name": "ipython",
    "version": 2
   },
   "file_extension": ".py",
   "mimetype": "text/x-python",
   "name": "python",
   "nbconvert_exporter": "python",
   "pygments_lexer": "ipython2",
   "version": "2.7.12"
  }
 },
 "nbformat": 4,
 "nbformat_minor": 2
}
