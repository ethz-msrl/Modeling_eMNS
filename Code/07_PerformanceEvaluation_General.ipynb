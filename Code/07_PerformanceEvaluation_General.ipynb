{
 "cells": [
  {
   "cell_type": "markdown",
   "metadata": {},
   "source": [
    "# Comparison of Models\n",
    "\n",
    "This script will take the outputs of each model and compare them using the different metrics. It will generate a general results table"
   ]
  },
  {
   "cell_type": "code",
   "execution_count": 1,
   "metadata": {
    "collapsed": true
   },
   "outputs": [],
   "source": [
    "import numpy as np\n",
    "import matlab.engine\n",
    "import pandas as pd\n",
    "import scipy.io as sio\n",
    "from sklearn.metrics import r2_score, mean_squared_error, mean_absolute_error\n",
    "from functions.functions import load_data_forGridSearch, load_object\n",
    "# from functions.functions_metrics import evaluate_generic_metrics"
   ]
  },
  {
   "cell_type": "code",
   "execution_count": 2,
   "metadata": {
    "collapsed": true
   },
   "outputs": [],
   "source": [
    "def evaluate_generic_metrics(labels, predictions):\n",
    "    \n",
    "    # label_norm = np.sqrt(np.sum(labels**2, axis=1))\n",
    "    # prediction_norm = np.sqrt(np.sum(predictions**2, axis=1))\n",
    "    label_norm = [np.linalg.norm(y) for y in labels]\n",
    "    prediction_norm = [np.linalg.norm(y) for y in predictions]\n",
    "    \n",
    "    # R^2\n",
    "    r2_c = r2_score(y_true=labels, y_pred=predictions, multioutput='raw_values')\n",
    "    r2 = r2_score(y_true=labels, y_pred=predictions)\n",
    "    r2_norm = r2_score(y_true=label_norm, y_pred=prediction_norm)\n",
    "\n",
    "    # Root mean squared error\n",
    "    rmse_c = np.sqrt(mean_squared_error(y_true=labels, y_pred=predictions, multioutput='raw_values'))\n",
    "    rmse = np.sqrt(mean_squared_error(y_true=labels, y_pred=predictions))\n",
    "    rmse_norm = np.sqrt(mean_squared_error(y_true=label_norm, y_pred=prediction_norm))\n",
    "    \n",
    "    # mean absolute error\n",
    "    mae = mean_absolute_error(y_true=labels, y_pred=predictions)\n",
    "    mae_norm = mean_absolute_error(y_true=label_norm, y_pred=prediction_norm)\n",
    "    \n",
    "    nmae = mae / (np.max(labels) - np.min(labels))\n",
    "    nrmse = rmse / (np.max(labels) - np.min(labels))\n",
    "\n",
    "    return {\"R2_x\": round(r2_c[0], 3),\n",
    "            \"R2_y\": round(r2_c[1], 3),\n",
    "            \"R2_z\": round(r2_c[2], 3),\n",
    "            \"R2\": round(r2, 3),\n",
    "            \"R2_norm\": round(r2_norm, 3),\n",
    "            \"RMSE_x_mT\": round(rmse_c[0]*1000, 2),\n",
    "            \"RMSE_y_mT\": round(rmse_c[1]*1000, 2),\n",
    "            \"RMSE_z_mT\": round(rmse_c[2]*1000, 2),\n",
    "            \"MAE_mT\": round(mae*1000, 2),\n",
    "            \"MAE_norm_mT\": round(mae_norm*1000, 2),\n",
    "            \"N-MAE\" : round(nmae*100,2),\n",
    "            \"RMSE_mT\": round(rmse*1000, 2),\n",
    "            \"N-RMSE\":round(nrmse*100,2),\n",
    "            \"RMSE_norm_mT\": round(rmse_norm*1000,2)}"
   ]
  },
  {
   "cell_type": "code",
   "execution_count": 3,
   "metadata": {
    "collapsed": true
   },
   "outputs": [],
   "source": [
    "# load testing data\n",
    "X_test, y_test = load_data_forGridSearch(\"../Data\", \"test\")"
   ]
  },
  {
   "cell_type": "markdown",
   "metadata": {},
   "source": [
    "## Baseline model (recalibrated)"
   ]
  },
  {
   "cell_type": "code",
   "execution_count": 4,
   "metadata": {
    "collapsed": true
   },
   "outputs": [],
   "source": [
    "# load matlab predictions\n",
    "recalibrated_y_pred = sio.loadmat('./baseline_model/magnetic_model/CalibrateSystem_CardioMag_retrained_w_SensorGrid/recalibrated_y_pred.mat')['fieldStrength']\n",
    "recalibrated_y_pred = recalibrated_y_pred[:,0:3]\n",
    "assert recalibrated_y_pred.shape == y_test.shape, \"Predictions for testing set do not have the same shape as the labels\""
   ]
  },
  {
   "cell_type": "code",
   "execution_count": 5,
   "metadata": {
    "collapsed": true
   },
   "outputs": [],
   "source": [
    "baseline_results_recalibrated = evaluate_generic_metrics(y_test, recalibrated_y_pred)\n",
    "baseline_results_recalibrated['model'] = 'MPEM'"
   ]
  },
  {
   "cell_type": "markdown",
   "metadata": {},
   "source": [
    "## Random forest model"
   ]
  },
  {
   "cell_type": "code",
   "execution_count": 6,
   "metadata": {
    "collapsed": true
   },
   "outputs": [],
   "source": [
    "rf_y_pred = np.load(\"../Models/RF/GridSearch_RF_predictions.npy\")"
   ]
  },
  {
   "cell_type": "code",
   "execution_count": 7,
   "metadata": {
    "collapsed": true
   },
   "outputs": [],
   "source": [
    "rf_results = evaluate_generic_metrics(y_test, rf_y_pred)\n",
    "rf_results['model'] = 'RF'"
   ]
  },
  {
   "cell_type": "code",
   "execution_count": 8,
   "metadata": {},
   "outputs": [
    {
     "data": {
      "text/plain": [
       "[<matplotlib.lines.Line2D at 0x7f8df3f032d0>,\n",
       " <matplotlib.lines.Line2D at 0x7f8df3f03410>,\n",
       " <matplotlib.lines.Line2D at 0x7f8df3f034d0>]"
      ]
     },
     "execution_count": 8,
     "metadata": {},
     "output_type": "execute_result"
    },
    {
     "data": {
      "image/png": "[encoded data removed]",
      "text/plain": [
       "<Figure size 432x288 with 1 Axes>"
      ]
     },
     "metadata": {},
     "output_type": "display_data"
    }
   ],
   "source": [
    "import matplotlib.pyplot as plt\n",
    "%matplotlib inline\n",
    "plt.plot(np.abs(y_test - rf_y_pred))"
   ]
  },
  {
   "cell_type": "markdown",
   "metadata": {},
   "source": [
    "## ANN model"
   ]
  },
  {
   "cell_type": "code",
   "execution_count": 9,
   "metadata": {
    "collapsed": true
   },
   "outputs": [],
   "source": [
    "mlp_y_pred = np.load('../Models/ANN/predictions_ANN.npy')\n",
    "mlp_results = evaluate_generic_metrics(y_test, mlp_y_pred)\n",
    "mlp_results['model'] = 'ANN'"
   ]
  },
  {
   "cell_type": "code",
   "execution_count": 10,
   "metadata": {},
   "outputs": [
    {
     "data": {
      "text/plain": [
       "[<matplotlib.lines.Line2D at 0x7f8df3e2e8d0>,\n",
       " <matplotlib.lines.Line2D at 0x7f8df3e2e990>,\n",
       " <matplotlib.lines.Line2D at 0x7f8df3e2ea50>]"
      ]
     },
     "execution_count": 10,
     "metadata": {},
     "output_type": "execute_result"
    },
    {
     "data": {
      "image/png": "[encoded data removed]",
      "text/plain": [
       "<Figure size 432x288 with 1 Axes>"
      ]
     },
     "metadata": {},
     "output_type": "display_data"
    }
   ],
   "source": [
    "import matplotlib.pyplot as plt\n",
    "%matplotlib inline\n",
    "plt.plot(np.abs(y_test - mlp_y_pred))"
   ]
  },
  {
   "cell_type": "markdown",
   "metadata": {},
   "source": [
    "## S-MPEM"
   ]
  },
  {
   "cell_type": "code",
   "execution_count": 11,
   "metadata": {
    "collapsed": true
   },
   "outputs": [],
   "source": [
    "s_mpem_y_pred = np.load('../Models/S-MPEM/predictions_S-MPEM.npy')\n",
    "s_mpem_results = evaluate_generic_metrics(y_test, s_mpem_y_pred)\n",
    "s_mpem_results['model'] = 'S-MPEM'"
   ]
  },
  {
   "cell_type": "markdown",
   "metadata": {},
   "source": [
    "## Deep Fluids"
   ]
  },
  {
   "cell_type": "code",
   "execution_count": 14,
   "metadata": {},
   "outputs": [],
   "source": [
    "cnn_y_pred = np.load('../Models/CNN/predictions.npy')\n",
    "cnn_y_test = np.load('../Models/CNN/observations.npy')\n",
    "cnn_results = evaluate_generic_metrics(cnn_y_test, cnn_y_pred)\n",
    "cnn_results['model'] = 'CNN'"
   ]
  },
  {
   "cell_type": "code",
   "execution_count": 15,
   "metadata": {
    "collapsed": true
   },
   "outputs": [],
   "source": [
    "cnn_df_y_pred = np.load('../Models/CNN-DF/predictions.npy')\n",
    "cnn_df_y_test = np.load('../Models/CNN-DF/observations.npy')\n",
    "cnn_df_results = evaluate_generic_metrics(cnn_df_y_test, cnn_df_y_pred)\n",
    "cnn_df_results['model'] = 'CNN-DF'"
   ]
  },
  {
   "cell_type": "markdown",
   "metadata": {},
   "source": [
    "## Overall comparison"
   ]
  },
  {
   "cell_type": "code",
   "execution_count": 16,
   "metadata": {
    "collapsed": true
   },
   "outputs": [],
   "source": [
    "results = pd.DataFrame.from_dict([baseline_results_recalibrated, rf_results,s_mpem_results, mlp_results, cnn_df_results, cnn_results])"
   ]
  },
  {
   "cell_type": "code",
   "execution_count": 17,
   "metadata": {},
   "outputs": [
    {
     "data": {
      "text/html": [
       "<div>\n",
       "<style scoped>\n",
       "    .dataframe tbody tr th:only-of-type {\n",
       "        vertical-align: middle;\n",
       "    }\n",
       "\n",
       "    .dataframe tbody tr th {\n",
       "        vertical-align: top;\n",
       "    }\n",
       "\n",
       "    .dataframe thead th {\n",
       "        text-align: right;\n",
       "    }\n",
       "</style>\n",
       "<table border=\"1\" class=\"dataframe\">\n",
       "  <thead>\n",
       "    <tr style=\"text-align: right;\">\n",
       "      <th></th>\n",
       "      <th>model</th>\n",
       "      <th>MAE_mT</th>\n",
       "      <th>MAE_norm_mT</th>\n",
       "      <th>N-MAE</th>\n",
       "      <th>RMSE_mT</th>\n",
       "      <th>N-RMSE</th>\n",
       "      <th>R2</th>\n",
       "    </tr>\n",
       "  </thead>\n",
       "  <tbody>\n",
       "    <tr>\n",
       "      <th>0</th>\n",
       "      <td>MPEM</td>\n",
       "      <td>8.98</td>\n",
       "      <td>15.45</td>\n",
       "      <td>2.75</td>\n",
       "      <td>14.90</td>\n",
       "      <td>4.57</td>\n",
       "      <td>0.809</td>\n",
       "    </tr>\n",
       "    <tr>\n",
       "      <th>1</th>\n",
       "      <td>RF</td>\n",
       "      <td>8.66</td>\n",
       "      <td>10.62</td>\n",
       "      <td>2.66</td>\n",
       "      <td>11.81</td>\n",
       "      <td>3.62</td>\n",
       "      <td>0.879</td>\n",
       "    </tr>\n",
       "    <tr>\n",
       "      <th>2</th>\n",
       "      <td>S-MPEM</td>\n",
       "      <td>2.84</td>\n",
       "      <td>3.35</td>\n",
       "      <td>0.87</td>\n",
       "      <td>4.44</td>\n",
       "      <td>1.36</td>\n",
       "      <td>0.983</td>\n",
       "    </tr>\n",
       "    <tr>\n",
       "      <th>3</th>\n",
       "      <td>ANN</td>\n",
       "      <td>2.76</td>\n",
       "      <td>2.91</td>\n",
       "      <td>0.85</td>\n",
       "      <td>3.88</td>\n",
       "      <td>1.19</td>\n",
       "      <td>0.987</td>\n",
       "    </tr>\n",
       "    <tr>\n",
       "      <th>4</th>\n",
       "      <td>CNN-DF</td>\n",
       "      <td>0.64</td>\n",
       "      <td>0.68</td>\n",
       "      <td>0.19</td>\n",
       "      <td>0.94</td>\n",
       "      <td>0.28</td>\n",
       "      <td>0.999</td>\n",
       "    </tr>\n",
       "    <tr>\n",
       "      <th>5</th>\n",
       "      <td>CNN</td>\n",
       "      <td>0.58</td>\n",
       "      <td>0.61</td>\n",
       "      <td>0.17</td>\n",
       "      <td>0.91</td>\n",
       "      <td>0.27</td>\n",
       "      <td>0.999</td>\n",
       "    </tr>\n",
       "  </tbody>\n",
       "</table>\n",
       "</div>"
      ],
      "text/plain": [
       "    model  MAE_mT  MAE_norm_mT  N-MAE  RMSE_mT  N-RMSE     R2\n",
       "0    MPEM    8.98        15.45   2.75    14.90    4.57  0.809\n",
       "1      RF    8.66        10.62   2.66    11.81    3.62  0.879\n",
       "2  S-MPEM    2.84         3.35   0.87     4.44    1.36  0.983\n",
       "3     ANN    2.76         2.91   0.85     3.88    1.19  0.987\n",
       "4  CNN-DF    0.64         0.68   0.19     0.94    0.28  0.999\n",
       "5     CNN    0.58         0.61   0.17     0.91    0.27  0.999"
      ]
     },
     "execution_count": 17,
     "metadata": {},
     "output_type": "execute_result"
    }
   ],
   "source": [
    "results[['model','MAE_mT', 'MAE_norm_mT', 'N-MAE', 'RMSE_mT', 'N-RMSE', 'R2']]"
   ]
  },
  {
   "cell_type": "code",
   "execution_count": 18,
   "metadata": {},
   "outputs": [
    {
     "data": {
      "text/html": [
       "<div>\n",
       "<style scoped>\n",
       "    .dataframe tbody tr th:only-of-type {\n",
       "        vertical-align: middle;\n",
       "    }\n",
       "\n",
       "    .dataframe tbody tr th {\n",
       "        vertical-align: top;\n",
       "    }\n",
       "\n",
       "    .dataframe thead th {\n",
       "        text-align: right;\n",
       "    }\n",
       "</style>\n",
       "<table border=\"1\" class=\"dataframe\">\n",
       "  <thead>\n",
       "    <tr style=\"text-align: right;\">\n",
       "      <th></th>\n",
       "      <th>model</th>\n",
       "      <th>R2_x</th>\n",
       "      <th>R2_y</th>\n",
       "      <th>R2_z</th>\n",
       "      <th>R2</th>\n",
       "      <th>RMSE_x_mT</th>\n",
       "      <th>RMSE_y_mT</th>\n",
       "      <th>RMSE_z_mT</th>\n",
       "      <th>RMSE_mT</th>\n",
       "    </tr>\n",
       "  </thead>\n",
       "  <tbody>\n",
       "    <tr>\n",
       "      <th>0</th>\n",
       "      <td>MPEM</td>\n",
       "      <td>0.860</td>\n",
       "      <td>0.808</td>\n",
       "      <td>0.760</td>\n",
       "      <td>0.809</td>\n",
       "      <td>14.34</td>\n",
       "      <td>15.81</td>\n",
       "      <td>14.51</td>\n",
       "      <td>14.90</td>\n",
       "    </tr>\n",
       "    <tr>\n",
       "      <th>1</th>\n",
       "      <td>RF</td>\n",
       "      <td>0.904</td>\n",
       "      <td>0.899</td>\n",
       "      <td>0.833</td>\n",
       "      <td>0.879</td>\n",
       "      <td>11.88</td>\n",
       "      <td>11.45</td>\n",
       "      <td>12.10</td>\n",
       "      <td>11.81</td>\n",
       "    </tr>\n",
       "    <tr>\n",
       "      <th>2</th>\n",
       "      <td>S-MPEM</td>\n",
       "      <td>0.983</td>\n",
       "      <td>0.989</td>\n",
       "      <td>0.976</td>\n",
       "      <td>0.983</td>\n",
       "      <td>4.96</td>\n",
       "      <td>3.70</td>\n",
       "      <td>4.57</td>\n",
       "      <td>4.44</td>\n",
       "    </tr>\n",
       "    <tr>\n",
       "      <th>3</th>\n",
       "      <td>ANN</td>\n",
       "      <td>0.990</td>\n",
       "      <td>0.989</td>\n",
       "      <td>0.981</td>\n",
       "      <td>0.987</td>\n",
       "      <td>3.77</td>\n",
       "      <td>3.76</td>\n",
       "      <td>4.10</td>\n",
       "      <td>3.88</td>\n",
       "    </tr>\n",
       "    <tr>\n",
       "      <th>4</th>\n",
       "      <td>CNN-DF</td>\n",
       "      <td>0.999</td>\n",
       "      <td>0.999</td>\n",
       "      <td>0.999</td>\n",
       "      <td>0.999</td>\n",
       "      <td>1.07</td>\n",
       "      <td>0.89</td>\n",
       "      <td>0.84</td>\n",
       "      <td>0.94</td>\n",
       "    </tr>\n",
       "    <tr>\n",
       "      <th>5</th>\n",
       "      <td>CNN</td>\n",
       "      <td>0.999</td>\n",
       "      <td>0.999</td>\n",
       "      <td>0.999</td>\n",
       "      <td>0.999</td>\n",
       "      <td>1.04</td>\n",
       "      <td>0.82</td>\n",
       "      <td>0.86</td>\n",
       "      <td>0.91</td>\n",
       "    </tr>\n",
       "  </tbody>\n",
       "</table>\n",
       "</div>"
      ],
      "text/plain": [
       "    model   R2_x   R2_y   R2_z     R2  RMSE_x_mT  RMSE_y_mT  RMSE_z_mT  \\\n",
       "0    MPEM  0.860  0.808  0.760  0.809      14.34      15.81      14.51   \n",
       "1      RF  0.904  0.899  0.833  0.879      11.88      11.45      12.10   \n",
       "2  S-MPEM  0.983  0.989  0.976  0.983       4.96       3.70       4.57   \n",
       "3     ANN  0.990  0.989  0.981  0.987       3.77       3.76       4.10   \n",
       "4  CNN-DF  0.999  0.999  0.999  0.999       1.07       0.89       0.84   \n",
       "5     CNN  0.999  0.999  0.999  0.999       1.04       0.82       0.86   \n",
       "\n",
       "   RMSE_mT  \n",
       "0    14.90  \n",
       "1    11.81  \n",
       "2     4.44  \n",
       "3     3.88  \n",
       "4     0.94  \n",
       "5     0.91  "
      ]
     },
     "execution_count": 18,
     "metadata": {},
     "output_type": "execute_result"
    }
   ],
   "source": [
    "results[['model', 'R2_x','R2_y', 'R2_z', 'R2', 'RMSE_x_mT', 'RMSE_y_mT', 'RMSE_z_mT', 'RMSE_mT']]"
   ]
  }
 ],
 "metadata": {
  "kernelspec": {
   "display_name": "Python 2",
   "language": "python",
   "name": "python2"
  },
  "language_info": {
   "codemirror_mode": {
    "name": "ipython",
    "version": 2
   },
   "file_extension": ".py",
   "mimetype": "text/x-python",
   "name": "python",
   "nbconvert_exporter": "python",
   "pygments_lexer": "ipython2",
   "version": "2.7.12"
  }
 },
 "nbformat": 4,
 "nbformat_minor": 2
}
