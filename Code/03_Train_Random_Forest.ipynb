{
 "cells": [
  {
   "cell_type": "code",
   "execution_count": 7,
   "metadata": {
    "collapsed": true
   },
   "outputs": [],
   "source": [
    "import numpy as np\n",
    "from sklearn.ensemble import RandomForestRegressor\n",
    "from sklearn.metrics import r2_score\n",
    "import time\n",
    "import pickle\n",
    "#import joblib\n",
    "from functions.functions import load_data_forGridSearch, feature_scaling_forGridSearch, save_object\n",
    "import matplotlib.pyplot as plt\n",
    "%matplotlib inline"
   ]
  },
  {
   "cell_type": "code",
   "execution_count": 2,
   "metadata": {
    "collapsed": true
   },
   "outputs": [],
   "source": [
    "# load data\n",
    "X_train, y_train = load_data_forGridSearch(\"../Data\", \"train\")\n",
    "X_test, y_test = load_data_forGridSearch(\"../Data\", \"test\")\n",
    "\n",
    "# feature scaling\n",
    "X_train_transformed, X_test_transformed = feature_scaling_forGridSearch(X_train, X_test)"
   ]
  },
  {
   "cell_type": "code",
   "execution_count": 3,
   "metadata": {},
   "outputs": [
    {
     "data": {
      "text/plain": [
       "RandomForestRegressor(bootstrap=True, criterion='mse', max_depth=None,\n",
       "           max_features='auto', max_leaf_nodes=None,\n",
       "           min_impurity_decrease=0.0, min_impurity_split=None,\n",
       "           min_samples_leaf=1, min_samples_split=2,\n",
       "           min_weight_fraction_leaf=0.0, n_estimators=100, n_jobs=1,\n",
       "           oob_score=False, random_state=0, verbose=0, warm_start=False)"
      ]
     },
     "execution_count": 3,
     "metadata": {},
     "output_type": "execute_result"
    }
   ],
   "source": [
    "rf = RandomForestRegressor(random_state=0, n_estimators=100, warm_start=False, oob_score=False, max_depth=None)\n",
    "rf.fit(X_train_transformed, y_train)"
   ]
  },
  {
   "cell_type": "code",
   "execution_count": 8,
   "metadata": {
    "collapsed": true
   },
   "outputs": [],
   "source": [
    "# saving the RF model for reuse\n",
    "# since the model ends up taking several GB of space we comment it out  \n",
    "# with open('../Models/RF/rf_ne100.sav', 'w') as f:\n",
    "#     joblib.dump(rf, f)"
   ]
  },
  {
   "cell_type": "code",
   "execution_count": 17,
   "metadata": {
    "collapsed": true
   },
   "outputs": [],
   "source": [
    "# this exports a vue of the RF as a graph and was used in the PhD thesis as a figure\n",
    "from sklearn.tree import export_graphviz\n",
    "feature_names = ['x', 'y', 'z'] + ['i{}'.format(i+1) for i in range(8)]\n",
    "export_graphviz(rf[0], '../Models/tree0.dot', max_depth=3, feature_names=feature_names,\n",
    "               impurity=False)"
   ]
  },
  {
   "cell_type": "code",
   "execution_count": 44,
   "metadata": {},
   "outputs": [
    {
     "name": "stdout",
     "output_type": "stream",
     "text": [
      "RF model R2 on training set: 0.9048301968070483\n",
      "RF model R2 on testing set: 0.8070951388334482\n"
     ]
    }
   ],
   "source": [
    "# here we run the predictions using the RF model and save them later for comparison with \n",
    "# the other methods\n",
    "y_pred = rf.predict(X_test_transformed)\n",
    "y_pred_train = rf.predict(X_train_transformed)\n",
    "print(\"RF model R2 on training set: \" + str(r2_score(y_true = y_train, y_pred = y_pred_train)))\n",
    "\n",
    "y_pred_test = rf.predict(X_test_transformed)\n",
    "print(\"RF model R2 on testing set: \" + str(r2_score(y_true = y_test, y_pred = y_pred_test)))\n",
    "#np.save(\"../Models/RF/GridSearch_RF_predictions.npy\", y_pred)"
   ]
  },
  {
   "cell_type": "code",
   "execution_count": 57,
   "metadata": {},
   "outputs": [
    {
     "name": "stdout",
     "output_type": "stream",
     "text": [
      "split 10 %: RF model R2 on training set: 0.995855788253059\n",
      "split 10 %: RF model R2 on testing set: 0.6259026140162826\n",
      "split 20 %: RF model R2 on training set: 0.9961369412277646\n",
      "split 20 %: RF model R2 on testing set: 0.7460148845475513\n",
      "split 30 %: RF model R2 on training set: 0.9962093406876447\n",
      "split 30 %: RF model R2 on testing set: 0.7607526962891541\n",
      "split 40 %: RF model R2 on training set: 0.9963880741185435\n",
      "split 40 %: RF model R2 on testing set: 0.7850184278917715\n",
      "split 50 %: RF model R2 on training set: 0.9965099236267321\n",
      "split 50 %: RF model R2 on testing set: 0.8136218000554974\n",
      "split 60 %: RF model R2 on training set: 0.9965662261523894\n",
      "split 60 %: RF model R2 on testing set: 0.8230105765553356\n",
      "split 70 %: RF model R2 on training set: 0.9966322707659621\n",
      "split 70 %: RF model R2 on testing set: 0.8384617664495151\n",
      "split 80 %: RF model R2 on training set: 0.9966140167814596\n",
      "split 80 %: RF model R2 on testing set: 0.8431189717968753\n",
      "split 90 %: RF model R2 on training set: 0.9967021624640413\n",
      "split 90 %: RF model R2 on testing set: 0.8523851136535967\n"
     ]
    }
   ],
   "source": [
    "splits = np.arange(10,100,10)\n",
    "N = X_train.shape[0]\n",
    "r2s = []\n",
    "for split in splits:\n",
    "    Ns = int(float(split)/100 * N)\n",
    "    rf = RandomForestRegressor(random_state=0, n_estimators=100, warm_start=False, oob_score=False, max_depth=None)\n",
    "    rf.fit(X_train_transformed[0:Ns,:], y_train[0:Ns,:])\n",
    "    y_pred = rf.predict(X_test_transformed)\n",
    "    y_pred_train = rf.predict(X_train_transformed[0:Ns,:])\n",
    "    print(\"split %d %%: RF model R2 on training set: \" %split + str(r2_score(y_true = y_train[0:Ns,:], y_pred = y_pred_train)))\n",
    "\n",
    "    y_pred_test = rf.predict(X_test_transformed)\n",
    "    r2_test = r2_score(y_true = y_test, y_pred = y_pred_test)\n",
    "    print(\"split %d %%: RF model R2 on testing set: \" %split + str(r2_test))\n",
    "    r2s.append(r2_test)\n",
    "r2s = np.array(r2)\n",
    "#np.savez('../Models/RF/splits_rf', splits=splits, r2s=np.array(r2_l))"
   ]
  },
  {
   "cell_type": "code",
   "execution_count": 3,
   "metadata": {
    "collapsed": true
   },
   "outputs": [],
   "source": [
    "results = np.load('splits_rf.npz')\n",
    "splits = results['splits']\n",
    "r2s = results['r2s']"
   ]
  },
  {
   "cell_type": "code",
   "execution_count": 4,
   "metadata": {},
   "outputs": [
    {
     "data": {
      "text/plain": [
       "Text(0,0.5,'R2')"
      ]
     },
     "execution_count": 4,
     "metadata": {},
     "output_type": "execute_result"
    },
    {
     "data": {
      "image/png": "[encoded data removed]",
      "text/plain": [
       "<Figure size 432x288 with 1 Axes>"
      ]
     },
     "metadata": {},
     "output_type": "display_data"
    }
   ],
   "source": [
    "plt.bar(splits, r2s, width=4.)\n",
    "plt.gca().set_ylim(np.min(r2s)-0.01,1.)\n",
    "plt.xlabel('split size (%)')\n",
    "plt.ylabel('R2')"
   ]
  },
  {
   "cell_type": "code",
   "execution_count": 62,
   "metadata": {},
   "outputs": [
    {
     "name": "stdout",
     "output_type": "stream",
     "text": [
      "depth: 5\n",
      "RF model R2 on training set: 0.37238966645949917\n",
      "RF model R2 on testing set: 0.3695447307069097\n",
      "depth: 10\n",
      "RF model R2 on training set: 0.7528949421350543\n",
      "RF model R2 on testing set: 0.6814416467264198\n",
      "depth: 15\n",
      "RF model R2 on training set: 0.9323078595211545\n",
      "RF model R2 on testing set: 0.8217552180433912\n",
      "depth: 20\n",
      "RF model R2 on training set: 0.9434670572420213\n",
      "RF model R2 on testing set: 0.8285122363365219\n",
      "depth: 25\n",
      "RF model R2 on training set: 0.9435341893921891\n",
      "RF model R2 on testing set: 0.8280007612515403\n"
     ]
    }
   ],
   "source": [
    "depths = np.arange(5,30,5)\n",
    "r2s = []\n",
    "r2s_training = []\n",
    "for depth in depths:\n",
    "    print('depth: %d' % depth)\n",
    "    rf = RandomForestRegressor(random_state=0, n_estimators=20, \n",
    "                           warm_start=True, oob_score=False, max_depth=depth, max_features='auto', min_samples_leaf=10)\n",
    "    rf.fit(X_train_transformed, y_train)\n",
    "    y_pred = rf.predict(X_test_transformed)\n",
    "    y_pred_train = rf.predict(X_train_transformed)\n",
    "    r2_train = r2_score(y_true = y_train, y_pred = y_pred_train)\n",
    "    print(\"RF model R2 on training set: \" +  str(r2_train))\n",
    "\n",
    "    y_pred_test = rf.predict(X_test_transformed)\n",
    "    r2_test = r2_score(y_true = y_test, y_pred = y_pred_test)\n",
    "    print(\"RF model R2 on testing set: \" + str(r2_test))\n",
    "    r2s.append(r2_test)\n",
    "    r2s_training.append(r2_train)\n",
    "    "
   ]
  },
  {
   "cell_type": "code",
   "execution_count": 63,
   "metadata": {},
   "outputs": [
    {
     "data": {
      "text/plain": [
       "Text(0.5,0,'max depth')"
      ]
     },
     "execution_count": 63,
     "metadata": {},
     "output_type": "execute_result"
    },
    {
     "data": {
      "image/png": "[encoded data removed]",
      "text/plain": [
       "<Figure size 432x288 with 1 Axes>"
      ]
     },
     "metadata": {},
     "output_type": "display_data"
    }
   ],
   "source": [
    "#r2s_training = [0.3764785128067188, 0.7587822370319639, 0.9570514653588069]\n",
    "plt.plot(depths, r2s, '-', marker='.')\n",
    "plt.plot(depths, r2s_training, '-', marker='.')\n",
    "plt.legend(('test', 'train'))\n",
    "plt.xlabel('max depth')"
   ]
  },
  {
   "cell_type": "code",
   "execution_count": 43,
   "metadata": {},
   "outputs": [
    {
     "name": "stdout",
     "output_type": "stream",
     "text": [
      "mf: 0.1\n",
      "RF model R2 on training set: 0.872868159921928\n",
      "RF model R2 on testing set: 0.7174801943944701\n",
      "mf: 0.3\n",
      "RF model R2 on training set: 0.9325162484943651\n",
      "RF model R2 on testing set: 0.818679576582659\n",
      "mf: 1.0\n",
      "RF model R2 on training set: 0.9541123709072736\n",
      "RF model R2 on testing set: 0.8345953889642413\n"
     ]
    }
   ],
   "source": [
    "for mf in [0.1, 0.3, 1.0]:\n",
    "    print('mf: %.1f' % mf)\n",
    "    rf = RandomForestRegressor(random_state=0, n_estimators=20, \n",
    "                               warm_start=True, oob_score=False, max_depth=15, max_features=mf, min_samples_leaf=2)\n",
    "    #rf.set_params(n_estimators=50)\n",
    "    rf.fit(X_train_transformed, y_train)\n",
    "    y_pred = rf.predict(X_test_transformed)\n",
    "    y_pred_train = rf.predict(X_train_transformed)\n",
    "    print(\"RF model R2 on training set: \" +  str(r2_score(y_true = y_train, y_pred = y_pred_train)))\n",
    "\n",
    "    y_pred_test = rf.predict(X_test_transformed)\n",
    "    r2_test = r2_score(y_true = y_test, y_pred = y_pred_test)\n",
    "    print(\"RF model R2 on testing set: \" + str(r2_test))"
   ]
  },
  {
   "cell_type": "code",
   "execution_count": 68,
   "metadata": {},
   "outputs": [
    {
     "name": "stdout",
     "output_type": "stream",
     "text": [
      "msl: 1\n",
      "RF model R2 on training set: 0.9553948965701714\n",
      "RF model R2 on testing set: 0.8370380052573352\n",
      "msl: 2\n",
      "RF model R2 on training set: 0.9541123709072736\n",
      "RF model R2 on testing set: 0.8345953889642413\n",
      "msl: 5\n",
      "RF model R2 on training set: 0.9469327017019576\n",
      "RF model R2 on testing set: 0.830685145460604\n",
      "msl: 10\n",
      "RF model R2 on training set: 0.9323078595211545\n",
      "RF model R2 on testing set: 0.8217552180433912\n",
      "msl: 15\n",
      "RF model R2 on training set: 0.9186119511472682\n",
      "RF model R2 on testing set: 0.8115642809159708\n"
     ]
    }
   ],
   "source": [
    "r2s = []\n",
    "r2s_training = []\n",
    "for msl in [1, 2, 5, 10, 15]:\n",
    "    print('msl: %d' % msl)\n",
    "    rf = RandomForestRegressor(random_state=0, n_estimators=20, \n",
    "                               warm_start=True, oob_score=False, max_depth=15, max_features='auto', min_samples_leaf=msl)\n",
    "    rf.fit(X_train_transformed, y_train)\n",
    "    y_pred = rf.predict(X_test_transformed)\n",
    "    y_pred_train = rf.predict(X_train_transformed)\n",
    "    r2_train = r2_score(y_true = y_train, y_pred = y_pred_train)\n",
    "    print(\"RF model R2 on training set: \" +  str(r2_train))\n",
    "\n",
    "    y_pred_test = rf.predict(X_test_transformed)\n",
    "    r2_test = r2_score(y_true = y_test, y_pred = y_pred_test)\n",
    "    print(\"RF model R2 on testing set: \" + str(r2_test))\n",
    "    r2s.append(r2_test)\n",
    "    r2s_training.append(r2_train)"
   ]
  },
  {
   "cell_type": "code",
   "execution_count": 73,
   "metadata": {},
   "outputs": [
    {
     "data": {
      "text/plain": [
       "Text(0.5,0,'min samples leaf')"
      ]
     },
     "execution_count": 73,
     "metadata": {},
     "output_type": "execute_result"
    },
    {
     "data": {
      "image/png": "[encoded data removed]",
      "text/plain": [
       "<Figure size 432x288 with 1 Axes>"
      ]
     },
     "metadata": {},
     "output_type": "display_data"
    }
   ],
   "source": [
    "plt.plot([1, 2, 5, 10, 15], r2s, '-', marker='.')\n",
    "plt.plot([1, 2, 5, 10, 15], r2s_training, '-', marker='.')\n",
    "plt.legend(('test', 'train'))\n",
    "plt.xlabel('min samples leaf')"
   ]
  },
  {
   "cell_type": "code",
   "execution_count": 74,
   "metadata": {
    "scrolled": true
   },
   "outputs": [
    {
     "name": "stdout",
     "output_type": "stream",
     "text": [
      "n_estimators: 2\n",
      "RF model R2 on training set: 0.8981884221101176\n",
      "RF model R2 on testing set: 0.7329458994879747\n",
      "n_estimators: 7\n",
      "RF model R2 on training set: 0.9218708555974109\n",
      "RF model R2 on testing set: 0.787633956274281\n",
      "n_estimators: 12\n",
      "RF model R2 on training set: 0.9296379535268002\n",
      "RF model R2 on testing set: 0.8138208020411671\n",
      "n_estimators: 17\n",
      "RF model R2 on training set: 0.9315262306608542\n",
      "RF model R2 on testing set: 0.8187576800269669\n",
      "n_estimators: 22\n",
      "RF model R2 on training set: 0.9329470549227535\n",
      "RF model R2 on testing set: 0.8242358149698856\n",
      "n_estimators: 27\n",
      "RF model R2 on training set: 0.9337095135305596\n",
      "RF model R2 on testing set: 0.8257545316169415\n",
      "n_estimators: 32\n",
      "RF model R2 on training set: 0.934017583922525\n",
      "RF model R2 on testing set: 0.827342121129898\n",
      "n_estimators: 37\n",
      "RF model R2 on training set: 0.9343687302515967\n",
      "RF model R2 on testing set: 0.8282261286279828\n",
      "n_estimators: 42\n",
      "RF model R2 on training set: 0.9345824617556698\n",
      "RF model R2 on testing set: 0.828034581047381\n",
      "n_estimators: 47\n",
      "RF model R2 on training set: 0.9347991835392438\n",
      "RF model R2 on testing set: 0.827999286113708\n"
     ]
    }
   ],
   "source": [
    "n_estimator_l = np.arange(2,50,5)\n",
    "r2s = []\n",
    "r2s_training = []\n",
    "rf = RandomForestRegressor(random_state=0, n_estimators=1, \n",
    "                       warm_start=True, oob_score=False, max_depth=15, max_features='auto', min_samples_leaf=10)\n",
    "for ne in n_estimator_l:\n",
    "    print('n_estimators: %d' % ne)\n",
    "    rf.set_params(n_estimators=ne)\n",
    "    rf.fit(X_train_transformed, y_train)\n",
    "    y_pred = rf.predict(X_test_transformed)\n",
    "    y_pred_train = rf.predict(X_train_transformed)\n",
    "    r2_train = r2_score(y_true = y_train, y_pred = y_pred_train)\n",
    "    print(\"RF model R2 on training set: \" +  str(r2_train))\n",
    "\n",
    "    y_pred_test = rf.predict(X_test_transformed)\n",
    "    r2_test = r2_score(y_true = y_test, y_pred = y_pred_test)\n",
    "    print(\"RF model R2 on testing set: \" + str(r2_test))\n",
    "    r2s.append(r2_test)\n",
    "    r2s_training.append(r2_train)"
   ]
  },
  {
   "cell_type": "code",
   "execution_count": 75,
   "metadata": {},
   "outputs": [
    {
     "data": {
      "text/plain": [
       "Text(0.5,0,'num estimators')"
      ]
     },
     "execution_count": 75,
     "metadata": {},
     "output_type": "execute_result"
    },
    {
     "data": {
      "image/png": "[encoded data removed]",
      "text/plain": [
       "<Figure size 432x288 with 1 Axes>"
      ]
     },
     "metadata": {},
     "output_type": "display_data"
    }
   ],
   "source": [
    "plt.plot(n_estimator_l, r2s, '-', marker='.')\n",
    "plt.plot(n_estimator_l, r2s_training, '-', marker='.')\n",
    "plt.legend(('test', 'train'))\n",
    "plt.xlabel('num estimators')"
   ]
  },
  {
   "cell_type": "code",
   "execution_count": null,
   "metadata": {
    "collapsed": true
   },
   "outputs": [],
   "source": []
  }
 ],
 "metadata": {
  "kernelspec": {
   "display_name": "Python 2",
   "language": "python",
   "name": "python2"
  },
  "language_info": {
   "codemirror_mode": {
    "name": "ipython",
    "version": 2
   },
   "file_extension": ".py",
   "mimetype": "text/x-python",
   "name": "python",
   "nbconvert_exporter": "python",
   "pygments_lexer": "ipython2",
   "version": "2.7.12"
  }
 },
 "nbformat": 4,
 "nbformat_minor": 2
}
